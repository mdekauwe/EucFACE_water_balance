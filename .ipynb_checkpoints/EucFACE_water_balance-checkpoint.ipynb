{
 "cells": [
  {
   "cell_type": "code",
   "execution_count": 80,
   "metadata": {},
   "outputs": [],
   "source": [
    "# I think there is a mistake in Gimeno? Spring 2013 is Spring 2014\n",
    "import pandas as pd\n",
    "import matplotlib.pyplot as plt"
   ]
  },
  {
   "cell_type": "code",
   "execution_count": 81,
   "metadata": {},
   "outputs": [],
   "source": [
    "fname = \"EucFACE_water_balance.csv\""
   ]
  },
  {
   "cell_type": "code",
   "execution_count": 82,
   "metadata": {},
   "outputs": [],
   "source": [
    "df = pd.read_csv(fname)"
   ]
  },
  {
   "cell_type": "code",
   "execution_count": 83,
   "metadata": {},
   "outputs": [
    {
     "data": {
      "text/html": [
       "<div>\n",
       "<style scoped>\n",
       "    .dataframe tbody tr th:only-of-type {\n",
       "        vertical-align: middle;\n",
       "    }\n",
       "\n",
       "    .dataframe tbody tr th {\n",
       "        vertical-align: top;\n",
       "    }\n",
       "\n",
       "    .dataframe thead th {\n",
       "        text-align: right;\n",
       "    }\n",
       "</style>\n",
       "<table border=\"1\" class=\"dataframe\">\n",
       "  <thead>\n",
       "    <tr style=\"text-align: right;\">\n",
       "      <th></th>\n",
       "      <th>Month</th>\n",
       "      <th>Season</th>\n",
       "      <th>Year</th>\n",
       "      <th>Ep</th>\n",
       "      <th>P</th>\n",
       "      <th>R</th>\n",
       "      <th>Dg</th>\n",
       "      <th>delta_S</th>\n",
       "      <th>Et</th>\n",
       "      <th>Ei</th>\n",
       "      <th>Etree</th>\n",
       "      <th>Efloor</th>\n",
       "    </tr>\n",
       "  </thead>\n",
       "  <tbody>\n",
       "    <tr>\n",
       "      <th>0</th>\n",
       "      <td>3</td>\n",
       "      <td>Spring</td>\n",
       "      <td>2012</td>\n",
       "      <td>429</td>\n",
       "      <td>92</td>\n",
       "      <td>0</td>\n",
       "      <td>19</td>\n",
       "      <td>-106</td>\n",
       "      <td>97</td>\n",
       "      <td>10</td>\n",
       "      <td>64</td>\n",
       "      <td>23</td>\n",
       "    </tr>\n",
       "    <tr>\n",
       "      <th>1</th>\n",
       "      <td>6</td>\n",
       "      <td>Summer</td>\n",
       "      <td>2013</td>\n",
       "      <td>486</td>\n",
       "      <td>377</td>\n",
       "      <td>31</td>\n",
       "      <td>6</td>\n",
       "      <td>133</td>\n",
       "      <td>190</td>\n",
       "      <td>47</td>\n",
       "      <td>109</td>\n",
       "      <td>35</td>\n",
       "    </tr>\n",
       "    <tr>\n",
       "      <th>2</th>\n",
       "      <td>9</td>\n",
       "      <td>Autumn</td>\n",
       "      <td>2013</td>\n",
       "      <td>296</td>\n",
       "      <td>155</td>\n",
       "      <td>0</td>\n",
       "      <td>-4</td>\n",
       "      <td>-113</td>\n",
       "      <td>153</td>\n",
       "      <td>20</td>\n",
       "      <td>99</td>\n",
       "      <td>34</td>\n",
       "    </tr>\n",
       "    <tr>\n",
       "      <th>3</th>\n",
       "      <td>12</td>\n",
       "      <td>Winter</td>\n",
       "      <td>2013</td>\n",
       "      <td>197</td>\n",
       "      <td>84</td>\n",
       "      <td>0</td>\n",
       "      <td>11</td>\n",
       "      <td>-45</td>\n",
       "      <td>84</td>\n",
       "      <td>3</td>\n",
       "      <td>61</td>\n",
       "      <td>19</td>\n",
       "    </tr>\n",
       "    <tr>\n",
       "      <th>4</th>\n",
       "      <td>3</td>\n",
       "      <td>Spring</td>\n",
       "      <td>2014</td>\n",
       "      <td>488</td>\n",
       "      <td>250</td>\n",
       "      <td>0</td>\n",
       "      <td>20</td>\n",
       "      <td>114</td>\n",
       "      <td>120</td>\n",
       "      <td>21</td>\n",
       "      <td>75</td>\n",
       "      <td>24</td>\n",
       "    </tr>\n",
       "  </tbody>\n",
       "</table>\n",
       "</div>"
      ],
      "text/plain": [
       "   Month  Season  Year   Ep    P   R  Dg  delta_S   Et  Ei  Etree  Efloor\n",
       "0      3  Spring  2012  429   92   0  19     -106   97  10     64      23\n",
       "1      6  Summer  2013  486  377  31   6      133  190  47    109      35\n",
       "2      9  Autumn  2013  296  155   0  -4     -113  153  20     99      34\n",
       "3     12  Winter  2013  197   84   0  11      -45   84   3     61      19\n",
       "4      3  Spring  2014  488  250   0  20      114  120  21     75      24"
      ]
     },
     "execution_count": 83,
     "metadata": {},
     "output_type": "execute_result"
    }
   ],
   "source": [
    "df.head()"
   ]
  },
  {
   "cell_type": "code",
   "execution_count": 84,
   "metadata": {},
   "outputs": [],
   "source": [
    "df['date'] = pd.to_datetime(df.Year.astype(str) + '-' + df.Month.astype(str))"
   ]
  },
  {
   "cell_type": "code",
   "execution_count": 85,
   "metadata": {},
   "outputs": [
    {
     "data": {
      "text/html": [
       "<div>\n",
       "<style scoped>\n",
       "    .dataframe tbody tr th:only-of-type {\n",
       "        vertical-align: middle;\n",
       "    }\n",
       "\n",
       "    .dataframe tbody tr th {\n",
       "        vertical-align: top;\n",
       "    }\n",
       "\n",
       "    .dataframe thead th {\n",
       "        text-align: right;\n",
       "    }\n",
       "</style>\n",
       "<table border=\"1\" class=\"dataframe\">\n",
       "  <thead>\n",
       "    <tr style=\"text-align: right;\">\n",
       "      <th></th>\n",
       "      <th>Month</th>\n",
       "      <th>Season</th>\n",
       "      <th>Year</th>\n",
       "      <th>Ep</th>\n",
       "      <th>P</th>\n",
       "      <th>R</th>\n",
       "      <th>Dg</th>\n",
       "      <th>delta_S</th>\n",
       "      <th>Et</th>\n",
       "      <th>Ei</th>\n",
       "      <th>Etree</th>\n",
       "      <th>Efloor</th>\n",
       "      <th>date</th>\n",
       "    </tr>\n",
       "  </thead>\n",
       "  <tbody>\n",
       "    <tr>\n",
       "      <th>0</th>\n",
       "      <td>3</td>\n",
       "      <td>Spring</td>\n",
       "      <td>2012</td>\n",
       "      <td>429</td>\n",
       "      <td>92</td>\n",
       "      <td>0</td>\n",
       "      <td>19</td>\n",
       "      <td>-106</td>\n",
       "      <td>97</td>\n",
       "      <td>10</td>\n",
       "      <td>64</td>\n",
       "      <td>23</td>\n",
       "      <td>2012-03-01</td>\n",
       "    </tr>\n",
       "    <tr>\n",
       "      <th>1</th>\n",
       "      <td>6</td>\n",
       "      <td>Summer</td>\n",
       "      <td>2013</td>\n",
       "      <td>486</td>\n",
       "      <td>377</td>\n",
       "      <td>31</td>\n",
       "      <td>6</td>\n",
       "      <td>133</td>\n",
       "      <td>190</td>\n",
       "      <td>47</td>\n",
       "      <td>109</td>\n",
       "      <td>35</td>\n",
       "      <td>2013-06-01</td>\n",
       "    </tr>\n",
       "    <tr>\n",
       "      <th>2</th>\n",
       "      <td>9</td>\n",
       "      <td>Autumn</td>\n",
       "      <td>2013</td>\n",
       "      <td>296</td>\n",
       "      <td>155</td>\n",
       "      <td>0</td>\n",
       "      <td>-4</td>\n",
       "      <td>-113</td>\n",
       "      <td>153</td>\n",
       "      <td>20</td>\n",
       "      <td>99</td>\n",
       "      <td>34</td>\n",
       "      <td>2013-09-01</td>\n",
       "    </tr>\n",
       "    <tr>\n",
       "      <th>3</th>\n",
       "      <td>12</td>\n",
       "      <td>Winter</td>\n",
       "      <td>2013</td>\n",
       "      <td>197</td>\n",
       "      <td>84</td>\n",
       "      <td>0</td>\n",
       "      <td>11</td>\n",
       "      <td>-45</td>\n",
       "      <td>84</td>\n",
       "      <td>3</td>\n",
       "      <td>61</td>\n",
       "      <td>19</td>\n",
       "      <td>2013-12-01</td>\n",
       "    </tr>\n",
       "    <tr>\n",
       "      <th>4</th>\n",
       "      <td>3</td>\n",
       "      <td>Spring</td>\n",
       "      <td>2014</td>\n",
       "      <td>488</td>\n",
       "      <td>250</td>\n",
       "      <td>0</td>\n",
       "      <td>20</td>\n",
       "      <td>114</td>\n",
       "      <td>120</td>\n",
       "      <td>21</td>\n",
       "      <td>75</td>\n",
       "      <td>24</td>\n",
       "      <td>2014-03-01</td>\n",
       "    </tr>\n",
       "  </tbody>\n",
       "</table>\n",
       "</div>"
      ],
      "text/plain": [
       "   Month  Season  Year   Ep    P   R  Dg  delta_S   Et  Ei  Etree  Efloor  \\\n",
       "0      3  Spring  2012  429   92   0  19     -106   97  10     64      23   \n",
       "1      6  Summer  2013  486  377  31   6      133  190  47    109      35   \n",
       "2      9  Autumn  2013  296  155   0  -4     -113  153  20     99      34   \n",
       "3     12  Winter  2013  197   84   0  11      -45   84   3     61      19   \n",
       "4      3  Spring  2014  488  250   0  20      114  120  21     75      24   \n",
       "\n",
       "        date  \n",
       "0 2012-03-01  \n",
       "1 2013-06-01  \n",
       "2 2013-09-01  \n",
       "3 2013-12-01  \n",
       "4 2014-03-01  "
      ]
     },
     "execution_count": 85,
     "metadata": {},
     "output_type": "execute_result"
    }
   ],
   "source": [
    "df.head()"
   ]
  },
  {
   "cell_type": "code",
   "execution_count": 86,
   "metadata": {},
   "outputs": [],
   "source": [
    "df[\"balance\"] = (df.P - df.R - df.Ei - df.Etree - df.Efloor - df.delta_S)"
   ]
  },
  {
   "cell_type": "code",
   "execution_count": 87,
   "metadata": {},
   "outputs": [
    {
     "data": {
      "text/plain": [
       "0    101\n",
       "1     22\n",
       "2    115\n",
       "3     46\n",
       "4     16\n",
       "5    142\n",
       "6     63\n",
       "7     44\n",
       "Name: balance, dtype: int64"
      ]
     },
     "execution_count": 87,
     "metadata": {},
     "output_type": "execute_result"
    }
   ],
   "source": [
    "df.balance"
   ]
  },
  {
   "cell_type": "code",
   "execution_count": 88,
   "metadata": {},
   "outputs": [
    {
     "data": {
      "image/png": "[encoded data removed]",
      "text/plain": [
       "<Figure size 432x288 with 1 Axes>"
      ]
     },
     "metadata": {
      "needs_background": "light"
     },
     "output_type": "display_data"
    }
   ],
   "source": [
    "fig, ax = plt.subplots()\n",
    "ax.plot(df.date, df.balance)\n",
    "ax.plot(df.date, df.delta_S)\n",
    "fig.autofmt_xdate()"
   ]
  },
  {
   "cell_type": "code",
   "execution_count": null,
   "metadata": {},
   "outputs": [],
   "source": []
  },
  {
   "cell_type": "code",
   "execution_count": null,
   "metadata": {},
   "outputs": [],
   "source": []
  }
 ],
 "metadata": {
  "kernelspec": {
   "display_name": "Python 3",
   "language": "python",
   "name": "python3"
  },
  "language_info": {
   "codemirror_mode": {
    "name": "ipython",
    "version": 3
   },
   "file_extension": ".py",
   "mimetype": "text/x-python",
   "name": "python",
   "nbconvert_exporter": "python",
   "pygments_lexer": "ipython3",
   "version": "3.7.5"
  }
 },
 "nbformat": 4,
 "nbformat_minor": 2
}
