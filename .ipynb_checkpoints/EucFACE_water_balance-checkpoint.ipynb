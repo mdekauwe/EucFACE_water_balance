{
 "cells": [
  {
   "cell_type": "code",
   "execution_count": 16,
   "metadata": {},
   "outputs": [],
   "source": [
    "import pandas as pd\n",
    "import matplotlib.pyplot as plt"
   ]
  },
  {
   "cell_type": "code",
   "execution_count": 17,
   "metadata": {},
   "outputs": [],
   "source": [
    "fname = \"EucFACE_water_balance.csv\""
   ]
  },
  {
   "cell_type": "code",
   "execution_count": 18,
   "metadata": {},
   "outputs": [],
   "source": [
    "df = pd.read_csv(fname)"
   ]
  },
  {
   "cell_type": "code",
   "execution_count": 19,
   "metadata": {},
   "outputs": [
    {
     "data": {
      "text/html": [
       "<div>\n",
       "<style scoped>\n",
       "    .dataframe tbody tr th:only-of-type {\n",
       "        vertical-align: middle;\n",
       "    }\n",
       "\n",
       "    .dataframe tbody tr th {\n",
       "        vertical-align: top;\n",
       "    }\n",
       "\n",
       "    .dataframe thead th {\n",
       "        text-align: right;\n",
       "    }\n",
       "</style>\n",
       "<table border=\"1\" class=\"dataframe\">\n",
       "  <thead>\n",
       "    <tr style=\"text-align: right;\">\n",
       "      <th></th>\n",
       "      <th>Season</th>\n",
       "      <th>Year</th>\n",
       "      <th>Ep</th>\n",
       "      <th>P</th>\n",
       "      <th>R</th>\n",
       "      <th>delta_S</th>\n",
       "      <th>Et</th>\n",
       "      <th>Ei</th>\n",
       "      <th>Etree</th>\n",
       "      <th>Efloor</th>\n",
       "    </tr>\n",
       "  </thead>\n",
       "  <tbody>\n",
       "    <tr>\n",
       "      <th>0</th>\n",
       "      <td>Spring</td>\n",
       "      <td>2012</td>\n",
       "      <td>429</td>\n",
       "      <td>92</td>\n",
       "      <td>0</td>\n",
       "      <td>-106</td>\n",
       "      <td>97</td>\n",
       "      <td>10</td>\n",
       "      <td>64</td>\n",
       "      <td>23</td>\n",
       "    </tr>\n",
       "    <tr>\n",
       "      <th>1</th>\n",
       "      <td>Summer</td>\n",
       "      <td>2013</td>\n",
       "      <td>486</td>\n",
       "      <td>377</td>\n",
       "      <td>31</td>\n",
       "      <td>133</td>\n",
       "      <td>190</td>\n",
       "      <td>47</td>\n",
       "      <td>109</td>\n",
       "      <td>35</td>\n",
       "    </tr>\n",
       "    <tr>\n",
       "      <th>2</th>\n",
       "      <td>Autumn</td>\n",
       "      <td>2013</td>\n",
       "      <td>296</td>\n",
       "      <td>155</td>\n",
       "      <td>0</td>\n",
       "      <td>-113</td>\n",
       "      <td>153</td>\n",
       "      <td>20</td>\n",
       "      <td>99</td>\n",
       "      <td>34</td>\n",
       "    </tr>\n",
       "    <tr>\n",
       "      <th>3</th>\n",
       "      <td>Winter</td>\n",
       "      <td>2013</td>\n",
       "      <td>197</td>\n",
       "      <td>84</td>\n",
       "      <td>0</td>\n",
       "      <td>-45</td>\n",
       "      <td>84</td>\n",
       "      <td>3</td>\n",
       "      <td>61</td>\n",
       "      <td>19</td>\n",
       "    </tr>\n",
       "    <tr>\n",
       "      <th>4</th>\n",
       "      <td>Spring</td>\n",
       "      <td>2013</td>\n",
       "      <td>488</td>\n",
       "      <td>250</td>\n",
       "      <td>0</td>\n",
       "      <td>114</td>\n",
       "      <td>120</td>\n",
       "      <td>21</td>\n",
       "      <td>75</td>\n",
       "      <td>24</td>\n",
       "    </tr>\n",
       "  </tbody>\n",
       "</table>\n",
       "</div>"
      ],
      "text/plain": [
       "   Season  Year   Ep    P   R  delta_S   Et  Ei  Etree  Efloor\n",
       "0  Spring  2012  429   92   0     -106   97  10     64      23\n",
       "1  Summer  2013  486  377  31      133  190  47    109      35\n",
       "2  Autumn  2013  296  155   0     -113  153  20     99      34\n",
       "3  Winter  2013  197   84   0      -45   84   3     61      19\n",
       "4  Spring  2013  488  250   0      114  120  21     75      24"
      ]
     },
     "execution_count": 19,
     "metadata": {},
     "output_type": "execute_result"
    }
   ],
   "source": [
    "df.head()\n"
   ]
  },
  {
   "cell_type": "code",
   "execution_count": 23,
   "metadata": {},
   "outputs": [],
   "source": [
    "df[\"balance\"] = (df.P - df.R - df.Ei - df.Etree - df.Efloor - df.delta_S)"
   ]
  },
  {
   "cell_type": "code",
   "execution_count": 24,
   "metadata": {},
   "outputs": [
    {
     "data": {
      "text/plain": [
       "0    101\n",
       "1     22\n",
       "2    115\n",
       "3     46\n",
       "4     16\n",
       "5    142\n",
       "6     63\n",
       "7     44\n",
       "dtype: int64"
      ]
     },
     "execution_count": 24,
     "metadata": {},
     "output_type": "execute_result"
    }
   ],
   "source": [
    "df.balance\n"
   ]
  },
  {
   "cell_type": "code",
   "execution_count": 29,
   "metadata": {},
   "outputs": [
    {
     "data": {
      "text/plain": [
       "[<matplotlib.lines.Line2D at 0x1198b6910>]"
      ]
     },
     "execution_count": 29,
     "metadata": {},
     "output_type": "execute_result"
    },
    {
     "data": {
      "image/png": "[encoded data removed]",
      "text/plain": [
       "<Figure size 432x288 with 1 Axes>"
      ]
     },
     "metadata": {
      "needs_background": "light"
     },
     "output_type": "display_data"
    }
   ],
   "source": [
    "plt.plot(df.balance)\n",
    "plt.plot(df.delta_S)"
   ]
  },
  {
   "cell_type": "code",
   "execution_count": null,
   "metadata": {},
   "outputs": [],
   "source": []
  }
 ],
 "metadata": {
  "kernelspec": {
   "display_name": "Python 3",
   "language": "python",
   "name": "python3"
  },
  "language_info": {
   "codemirror_mode": {
    "name": "ipython",
    "version": 3
   },
   "file_extension": ".py",
   "mimetype": "text/x-python",
   "name": "python",
   "nbconvert_exporter": "python",
   "pygments_lexer": "ipython3",
   "version": "3.7.5"
  }
 },
 "nbformat": 4,
 "nbformat_minor": 2
}
